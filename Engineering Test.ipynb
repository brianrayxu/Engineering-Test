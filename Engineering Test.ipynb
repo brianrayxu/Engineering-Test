{
 "metadata": {
  "language_info": {
   "codemirror_mode": {
    "name": "ipython",
    "version": 3
   },
   "file_extension": ".py",
   "mimetype": "text/x-python",
   "name": "python",
   "nbconvert_exporter": "python",
   "pygments_lexer": "ipython3",
   "version": "3.8.5-final"
  },
  "orig_nbformat": 2,
  "kernelspec": {
   "name": "python3",
   "display_name": "Python 3.8.5 32-bit",
   "metadata": {
    "interpreter": {
     "hash": "4f7b4d158a2467b4e1383513dae02ccf8e5288ddbedae9374d36c481258c1702"
    }
   }
  }
 },
 "nbformat": 4,
 "nbformat_minor": 2,
 "cells": [
  {
   "source": [
    "#Master Imports List\n",
    "import os\n",
    "import csv\n",
    "import re\n",
    "import pandas as pd"
   ],
   "cell_type": "code",
   "metadata": {},
   "execution_count": 42,
   "outputs": []
  },
  {
   "cell_type": "code",
   "execution_count": 46,
   "metadata": {},
   "outputs": [],
   "source": [
    "#iterate through all FILES in current directory\n",
    "ipSource, envSource = [], []\n",
    "for filename in os.listdir('./Engineering Test Files'):\n",
    "    if filename.endswith(\".csv\") and filename != \"Combined.csv\": \n",
    "        #take all unique IP Addresses, and append environment into lists\n",
    "        #take out file extension\n",
    "        splitNameFile = re.split('\\.', filename)\n",
    "        #get matching environment name\n",
    "        splitName = re.split(' ',splitNameFile[0])\n",
    "        environmentName = splitName[0] + ' ' + splitName[1]\n",
    "\n",
    "        with open('./Engineering Test Files/' + filename, newline='') as csvfile:\n",
    "            DataCaptured = csv.reader(csvfile, delimiter=',') \n",
    "\n",
    "            firstline = True\n",
    "            for row in DataCaptured:\n",
    "                if firstline:\n",
    "                    firstline = False\n",
    "                    continue\n",
    "                if row[0] not in ipSource:\n",
    "                    ipSource.append(row[0])\n",
    "                    envSource.append(environmentName)\n",
    "\n",
    "#convert lists into combined.csv file\n",
    "with open('./Engineering Test Files/Combined.csv', 'w') as f:\n",
    "    writer = csv.writer(f)\n",
    "    writer.writerow(['Source IP'] + ['Environment'])\n",
    "    writer.writerows(zip(ipSource, envSource))\n",
    "\n",
    "#sort by IP\n",
    "df = pd.read_csv('./Engineering Test Files/Combined.csv')\n",
    "df = df.sort_values('Source IP')\n",
    "df.to_csv('./Engineering Test Files/Combined.csv', index=False)"
   ]
  },
  {
   "cell_type": "code",
   "execution_count": null,
   "metadata": {},
   "outputs": [],
   "source": []
  }
 ]
}